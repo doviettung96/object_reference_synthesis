{
 "cells": [
  {
   "cell_type": "code",
   "execution_count": 3,
   "metadata": {},
   "outputs": [
    {
     "name": "stdout",
     "output_type": "stream",
     "text": [
      "/Users/jianihuang/Desktop/research/synthesis_specs/data/processed_dataset/raw/CLEVR_train_scenes_1000.json\n"
     ]
    }
   ],
   "source": [
    "import torch\n",
    "import os \n",
    "import sys\n",
    "\n",
    "question_dir = os.path.abspath(os.path.join(os.path.abspath(\"__file__\"), \"../../data/processed_dataset/raw\"))\n",
    "question_path = os.path.abspath(os.path.join(question_dir, \"CLEVR_train_scenes_1000.json\"))    \n",
    "print (question_path)"
   ]
  },
  {
   "cell_type": "code",
   "execution_count": 4,
   "metadata": {},
   "outputs": [],
   "source": [
    "import json\n",
    "with open (question_path, \"r\") as question_file:\n",
    "    questions = json.load(question_file)"
   ]
  },
  {
   "cell_type": "code",
   "execution_count": 6,
   "metadata": {},
   "outputs": [
    {
     "data": {
      "text/plain": [
       "{'image_index': 0,\n",
       " 'objects': [{'color': 'blue',\n",
       "   'size': 'large',\n",
       "   'rotation': 269.8517172617167,\n",
       "   'shape': 'cube',\n",
       "   '3d_coords': [-1.3705521821975708, 2.0794010162353516, 0.699999988079071],\n",
       "   'material': 'rubber',\n",
       "   'pixel_coords': [269, 88, 12.661545753479004]},\n",
       "  {'color': 'green',\n",
       "   'size': 'large',\n",
       "   'rotation': 292.2219458666971,\n",
       "   'shape': 'cylinder',\n",
       "   '3d_coords': [-2.9289753437042236, -1.7488206624984741, 0.699999988079071],\n",
       "   'material': 'metal',\n",
       "   'pixel_coords': [93, 108, 11.522202491760254]},\n",
       "  {'color': 'cyan',\n",
       "   'size': 'small',\n",
       "   'rotation': 25.545135239473026,\n",
       "   'shape': 'cube',\n",
       "   '3d_coords': [1.5515961647033691, 0.6776641607284546, 0.3499999940395355],\n",
       "   'material': 'rubber',\n",
       "   'pixel_coords': [319, 162, 10.045343399047852]},\n",
       "  {'color': 'brown',\n",
       "   'size': 'large',\n",
       "   'rotation': 327.3489188814305,\n",
       "   'shape': 'cylinder',\n",
       "   '3d_coords': [-0.25301405787467957, -2.3089325428009033, 0.699999988079071],\n",
       "   'material': 'metal',\n",
       "   'pixel_coords': [132, 159, 9.392304420471191]},\n",
       "  {'color': 'gray',\n",
       "   'size': 'small',\n",
       "   'rotation': 6.325183772442613,\n",
       "   'shape': 'cube',\n",
       "   '3d_coords': [1.018894076347351, -1.93693208694458, 0.3499999940395355],\n",
       "   'material': 'rubber',\n",
       "   'pixel_coords': [192, 197, 8.907766342163086]},\n",
       "  {'color': 'brown',\n",
       "   'size': 'large',\n",
       "   'rotation': 25.96049348342493,\n",
       "   'shape': 'sphere',\n",
       "   '3d_coords': [0.43993687629699707, 2.9987525939941406, 0.699999988079071],\n",
       "   'material': 'metal',\n",
       "   'pixel_coords': [353, 100, 11.964213371276855]}],\n",
       " 'relationships': {'right': [[2, 5],\n",
       "   [0, 2, 3, 4, 5],\n",
       "   [5],\n",
       "   [0, 2, 4, 5],\n",
       "   [0, 2, 5],\n",
       "   []],\n",
       "  'behind': [[], [0, 5], [0, 1, 5], [0, 1, 2, 5], [0, 1, 2, 3, 5], [0]],\n",
       "  'front': [[1, 2, 3, 4, 5], [2, 3, 4], [3, 4], [4], [], [1, 2, 3, 4]],\n",
       "  'left': [[1, 3, 4], [], [0, 1, 3, 4], [1], [1, 3], [0, 1, 2, 3, 4]]},\n",
       " 'image_filename': 'CLEVR_train_000000.png',\n",
       " 'split': 'train',\n",
       " 'directions': {'right': [0.6563112735748291, 0.7544902563095093, -0.0],\n",
       "  'behind': [-0.754490315914154, 0.6563112735748291, 0.0],\n",
       "  'above': [0.0, 0.0, 1.0],\n",
       "  'below': [-0.0, -0.0, -1.0],\n",
       "  'left': [-0.6563112735748291, -0.7544902563095093, 0.0],\n",
       "  'front': [0.754490315914154, -0.6563112735748291, -0.0]}}"
      ]
     },
     "execution_count": 6,
     "metadata": {},
     "output_type": "execute_result"
    }
   ],
   "source": [
    "questions[0]"
   ]
  },
  {
   "cell_type": "code",
   "execution_count": 12,
   "metadata": {},
   "outputs": [
    {
     "data": {
      "text/plain": [
       "{'image_index': 0,\n",
       " 'program': [{'inputs': [], 'function': 'scene', 'value_inputs': []},\n",
       "  {'inputs': [0], 'function': 'filter_size', 'value_inputs': ['large']},\n",
       "  {'inputs': [1], 'function': 'filter_color', 'value_inputs': ['green']},\n",
       "  {'inputs': [2], 'function': 'count', 'value_inputs': []},\n",
       "  {'inputs': [], 'function': 'scene', 'value_inputs': []},\n",
       "  {'inputs': [4], 'function': 'filter_size', 'value_inputs': ['large']},\n",
       "  {'inputs': [5], 'function': 'filter_color', 'value_inputs': ['purple']},\n",
       "  {'inputs': [6], 'function': 'filter_material', 'value_inputs': ['metal']},\n",
       "  {'inputs': [7], 'function': 'filter_shape', 'value_inputs': ['cube']},\n",
       "  {'inputs': [8], 'function': 'count', 'value_inputs': []},\n",
       "  {'inputs': [3, 9], 'function': 'greater_than', 'value_inputs': []}],\n",
       " 'question_index': 0,\n",
       " 'image_filename': 'CLEVR_train_000000.png',\n",
       " 'question_family_index': 2,\n",
       " 'split': 'train',\n",
       " 'answer': 'yes',\n",
       " 'question': 'Are there more big green things than large purple shiny cubes?'}"
      ]
     },
     "execution_count": 12,
     "metadata": {},
     "output_type": "execute_result"
    }
   ],
   "source": [
    "questions[\"questions\"][0]"
   ]
  },
  {
   "cell_type": "code",
   "execution_count": 13,
   "metadata": {},
   "outputs": [
    {
     "data": {
      "text/plain": [
       "{'image_index': 0,\n",
       " 'program': [{'inputs': [], 'function': 'scene', 'value_inputs': []},\n",
       "  {'inputs': [0], 'function': 'filter_size', 'value_inputs': ['small']},\n",
       "  {'inputs': [1], 'function': 'filter_color', 'value_inputs': ['cyan']},\n",
       "  {'inputs': [2], 'function': 'filter_material', 'value_inputs': ['rubber']},\n",
       "  {'inputs': [3], 'function': 'unique', 'value_inputs': []},\n",
       "  {'inputs': [4], 'function': 'same_shape', 'value_inputs': []},\n",
       "  {'inputs': [5], 'function': 'count', 'value_inputs': []}],\n",
       " 'question_index': 1,\n",
       " 'image_filename': 'CLEVR_train_000000.png',\n",
       " 'question_family_index': 43,\n",
       " 'split': 'train',\n",
       " 'answer': '2',\n",
       " 'question': 'How many other things are there of the same shape as the tiny cyan matte object?'}"
      ]
     },
     "execution_count": 13,
     "metadata": {},
     "output_type": "execute_result"
    }
   ],
   "source": [
    "questions[\"questions\"][1]"
   ]
  },
  {
   "cell_type": "code",
   "execution_count": 14,
   "metadata": {},
   "outputs": [
    {
     "data": {
      "text/plain": [
       "{'image_index': 0,\n",
       " 'program': [{'inputs': [], 'function': 'scene', 'value_inputs': []},\n",
       "  {'inputs': [0], 'function': 'filter_size', 'value_inputs': ['large']},\n",
       "  {'inputs': [1], 'function': 'filter_shape', 'value_inputs': ['sphere']},\n",
       "  {'inputs': [2], 'function': 'unique', 'value_inputs': []},\n",
       "  {'inputs': [], 'function': 'scene', 'value_inputs': []},\n",
       "  {'inputs': [4], 'function': 'filter_size', 'value_inputs': ['large']},\n",
       "  {'inputs': [5], 'function': 'filter_material', 'value_inputs': ['rubber']},\n",
       "  {'inputs': [6], 'function': 'filter_shape', 'value_inputs': ['cube']},\n",
       "  {'inputs': [7], 'function': 'unique', 'value_inputs': []},\n",
       "  {'inputs': [3], 'function': 'query_color', 'value_inputs': []},\n",
       "  {'inputs': [8], 'function': 'query_color', 'value_inputs': []},\n",
       "  {'inputs': [9, 10], 'function': 'equal_color', 'value_inputs': []}],\n",
       " 'question_index': 2,\n",
       " 'image_filename': 'CLEVR_train_000000.png',\n",
       " 'question_family_index': 10,\n",
       " 'split': 'train',\n",
       " 'answer': 'no',\n",
       " 'question': 'Is the color of the large sphere the same as the large matte cube?'}"
      ]
     },
     "execution_count": 14,
     "metadata": {},
     "output_type": "execute_result"
    }
   ],
   "source": [
    "questions[\"questions\"][2]"
   ]
  },
  {
   "cell_type": "code",
   "execution_count": 15,
   "metadata": {},
   "outputs": [
    {
     "data": {
      "text/plain": [
       "{'image_index': 1,\n",
       " 'program': [{'inputs': [], 'function': 'scene', 'value_inputs': []},\n",
       "  {'inputs': [0], 'function': 'filter_color', 'value_inputs': ['yellow']},\n",
       "  {'inputs': [1], 'function': 'filter_shape', 'value_inputs': ['cube']},\n",
       "  {'inputs': [2], 'function': 'unique', 'value_inputs': []},\n",
       "  {'inputs': [3], 'function': 'same_size', 'value_inputs': []},\n",
       "  {'inputs': [4], 'function': 'filter_color', 'value_inputs': ['gray']},\n",
       "  {'inputs': [5], 'function': 'filter_material', 'value_inputs': ['rubber']},\n",
       "  {'inputs': [6], 'function': 'filter_shape', 'value_inputs': ['cube']},\n",
       "  {'inputs': [7], 'function': 'count', 'value_inputs': []}],\n",
       " 'question_index': 10,\n",
       " 'image_filename': 'CLEVR_train_000001.png',\n",
       " 'question_family_index': 48,\n",
       " 'split': 'train',\n",
       " 'answer': '0',\n",
       " 'question': 'How many gray rubber cubes are the same size as the yellow block?'}"
      ]
     },
     "execution_count": 15,
     "metadata": {},
     "output_type": "execute_result"
    }
   ],
   "source": [
    "questions[\"questions\"][10]"
   ]
  },
  {
   "cell_type": "code",
   "execution_count": 18,
   "metadata": {},
   "outputs": [
    {
     "data": {
      "text/plain": [
       "{'image_index': 2,\n",
       " 'program': [{'inputs': [], 'function': 'scene', 'value_inputs': []},\n",
       "  {'inputs': [0], 'function': 'filter_size', 'value_inputs': ['small']},\n",
       "  {'inputs': [1], 'function': 'unique', 'value_inputs': []},\n",
       "  {'inputs': [2], 'function': 'query_color', 'value_inputs': []},\n",
       "  {'inputs': [], 'function': 'scene', 'value_inputs': []},\n",
       "  {'inputs': [4], 'function': 'filter_color', 'value_inputs': ['gray']},\n",
       "  {'inputs': [5], 'function': 'filter_material', 'value_inputs': ['metal']},\n",
       "  {'inputs': [6], 'function': 'unique', 'value_inputs': []},\n",
       "  {'inputs': [7], 'function': 'relate', 'value_inputs': ['front']},\n",
       "  {'inputs': [8], 'function': 'unique', 'value_inputs': []},\n",
       "  {'inputs': [9], 'function': 'query_color', 'value_inputs': []},\n",
       "  {'inputs': [3, 10], 'function': 'equal_color', 'value_inputs': []}],\n",
       " 'question_index': 20,\n",
       " 'image_filename': 'CLEVR_train_000002.png',\n",
       " 'question_family_index': 17,\n",
       " 'split': 'train',\n",
       " 'answer': 'no',\n",
       " 'question': 'There is a small object; is it the same color as the object in front of the gray shiny thing?'}"
      ]
     },
     "execution_count": 18,
     "metadata": {},
     "output_type": "execute_result"
    }
   ],
   "source": [
    "questions[\"questions\"][20]"
   ]
  },
  {
   "cell_type": "markdown",
   "metadata": {},
   "source": [
    "#### Organize a mini dataset of 1000 pictures"
   ]
  },
  {
   "cell_type": "code",
   "execution_count": 7,
   "metadata": {},
   "outputs": [
    {
     "name": "stdout",
     "output_type": "stream",
     "text": [
      "/Users/jianihuang/Desktop/research/synthesis_specs/data/processed_dataset/raw/CLEVR_train_scenes_1000.json\n"
     ]
    }
   ],
   "source": [
    "mini_question_path = os.path.abspath(os.path.join(question_dir, \"CLEVR_train_questions_10.json\"))    \n",
    "print (question_path)"
   ]
  },
  {
   "cell_type": "code",
   "execution_count": 21,
   "metadata": {},
   "outputs": [],
   "source": [
    "mini_question_dict = questions[\"questions\"][:10000]\n",
    "with open(mini_question_path, 'w') as mini_question_file:\n",
    "    json.dump(mini_question_dict, mini_question_file, indent=True)"
   ]
  },
  {
   "cell_type": "code",
   "execution_count": 7,
   "metadata": {},
   "outputs": [
    {
     "name": "stdout",
     "output_type": "stream",
     "text": [
      "/Users/jianihuang/Desktop/research/synthesis_specs/data/CLEVR_v1.0/scenes/CLEVR_train_scenes.json\n"
     ]
    }
   ],
   "source": [
    "scene_dir =  os.path.abspath(os.path.join(os.path.abspath(\"__file__\"), \"../../data/CLEVR_v1.0/scenes\"))\n",
    "scene_path = os.path.abspath(os.path.join(scene_dir, \"CLEVR_train_scenes.json\"))\n",
    "\n",
    "print(scene_path)"
   ]
  },
  {
   "cell_type": "code",
   "execution_count": 8,
   "metadata": {},
   "outputs": [],
   "source": [
    "import json\n",
    "with open (scene_path, \"r\") as scene_file:\n",
    "    scene = json.load(scene_file)"
   ]
  },
  {
   "cell_type": "code",
   "execution_count": 9,
   "metadata": {},
   "outputs": [
    {
     "data": {
      "text/plain": [
       "dict_keys(['info', 'scenes'])"
      ]
     },
     "execution_count": 9,
     "metadata": {},
     "output_type": "execute_result"
    }
   ],
   "source": [
    "scene.keys()"
   ]
  },
  {
   "cell_type": "code",
   "execution_count": 11,
   "metadata": {},
   "outputs": [
    {
     "data": {
      "text/plain": [
       "{'image_index': 0,\n",
       " 'objects': [{'color': 'blue',\n",
       "   'size': 'large',\n",
       "   'rotation': 269.8517172617167,\n",
       "   'shape': 'cube',\n",
       "   '3d_coords': [-1.3705521821975708, 2.0794010162353516, 0.699999988079071],\n",
       "   'material': 'rubber',\n",
       "   'pixel_coords': [269, 88, 12.661545753479004]},\n",
       "  {'color': 'green',\n",
       "   'size': 'large',\n",
       "   'rotation': 292.2219458666971,\n",
       "   'shape': 'cylinder',\n",
       "   '3d_coords': [-2.9289753437042236, -1.7488206624984741, 0.699999988079071],\n",
       "   'material': 'metal',\n",
       "   'pixel_coords': [93, 108, 11.522202491760254]},\n",
       "  {'color': 'cyan',\n",
       "   'size': 'small',\n",
       "   'rotation': 25.545135239473026,\n",
       "   'shape': 'cube',\n",
       "   '3d_coords': [1.5515961647033691, 0.6776641607284546, 0.3499999940395355],\n",
       "   'material': 'rubber',\n",
       "   'pixel_coords': [319, 162, 10.045343399047852]},\n",
       "  {'color': 'brown',\n",
       "   'size': 'large',\n",
       "   'rotation': 327.3489188814305,\n",
       "   'shape': 'cylinder',\n",
       "   '3d_coords': [-0.25301405787467957, -2.3089325428009033, 0.699999988079071],\n",
       "   'material': 'metal',\n",
       "   'pixel_coords': [132, 159, 9.392304420471191]},\n",
       "  {'color': 'gray',\n",
       "   'size': 'small',\n",
       "   'rotation': 6.325183772442613,\n",
       "   'shape': 'cube',\n",
       "   '3d_coords': [1.018894076347351, -1.93693208694458, 0.3499999940395355],\n",
       "   'material': 'rubber',\n",
       "   'pixel_coords': [192, 197, 8.907766342163086]},\n",
       "  {'color': 'brown',\n",
       "   'size': 'large',\n",
       "   'rotation': 25.96049348342493,\n",
       "   'shape': 'sphere',\n",
       "   '3d_coords': [0.43993687629699707, 2.9987525939941406, 0.699999988079071],\n",
       "   'material': 'metal',\n",
       "   'pixel_coords': [353, 100, 11.964213371276855]}],\n",
       " 'relationships': {'right': [[2, 5],\n",
       "   [0, 2, 3, 4, 5],\n",
       "   [5],\n",
       "   [0, 2, 4, 5],\n",
       "   [0, 2, 5],\n",
       "   []],\n",
       "  'behind': [[], [0, 5], [0, 1, 5], [0, 1, 2, 5], [0, 1, 2, 3, 5], [0]],\n",
       "  'front': [[1, 2, 3, 4, 5], [2, 3, 4], [3, 4], [4], [], [1, 2, 3, 4]],\n",
       "  'left': [[1, 3, 4], [], [0, 1, 3, 4], [1], [1, 3], [0, 1, 2, 3, 4]]},\n",
       " 'image_filename': 'CLEVR_train_000000.png',\n",
       " 'split': 'train',\n",
       " 'directions': {'right': [0.6563112735748291, 0.7544902563095093, -0.0],\n",
       "  'behind': [-0.754490315914154, 0.6563112735748291, 0.0],\n",
       "  'above': [0.0, 0.0, 1.0],\n",
       "  'below': [-0.0, -0.0, -1.0],\n",
       "  'left': [-0.6563112735748291, -0.7544902563095093, 0.0],\n",
       "  'front': [0.754490315914154, -0.6563112735748291, -0.0]}}"
      ]
     },
     "execution_count": 11,
     "metadata": {},
     "output_type": "execute_result"
    }
   ],
   "source": [
    "scene['scenes'][0]"
   ]
  },
  {
   "cell_type": "code",
   "execution_count": 12,
   "metadata": {},
   "outputs": [
    {
     "data": {
      "text/plain": [
       "70000"
      ]
     },
     "execution_count": 12,
     "metadata": {},
     "output_type": "execute_result"
    }
   ],
   "source": [
    "len(scene['scenes'])"
   ]
  },
  {
   "cell_type": "code",
   "execution_count": 13,
   "metadata": {},
   "outputs": [
    {
     "name": "stdout",
     "output_type": "stream",
     "text": [
      "/Users/jianihuang/Desktop/research/synthesis_specs/data/CLEVR_v1.0/scenes/CLEVR_train_scenes.json\n"
     ]
    }
   ],
   "source": [
    "mini_scenes = questions[:10]\n",
    "mini_scene_path = os.path.abspath(os.path.join(scene_dir, \"i_10.json\"))\n",
    "\n",
    "print(mini_scene_path)"
   ]
  },
  {
   "cell_type": "code",
   "execution_count": 15,
   "metadata": {},
   "outputs": [],
   "source": [
    "with open(mini_scene_path, 'w') as mini_scene_file:\n",
    "    json.dump(mini_scenes, mini_scene_file, indent=True)"
   ]
  },
  {
   "cell_type": "code",
   "execution_count": 8,
   "metadata": {},
   "outputs": [
    {
     "data": {
      "text/plain": [
       "1000"
      ]
     },
     "execution_count": 8,
     "metadata": {},
     "output_type": "execute_result"
    }
   ],
   "source": [
    "len(questions)"
   ]
  },
  {
   "cell_type": "code",
   "execution_count": null,
   "metadata": {},
   "outputs": [],
   "source": []
  }
 ],
 "metadata": {
  "kernelspec": {
   "display_name": "Python 3",
   "language": "python",
   "name": "python3"
  },
  "language_info": {
   "codemirror_mode": {
    "name": "ipython",
    "version": 3
   },
   "file_extension": ".py",
   "mimetype": "text/x-python",
   "name": "python",
   "nbconvert_exporter": "python",
   "pygments_lexer": "ipython3",
   "version": "3.7.4"
  }
 },
 "nbformat": 4,
 "nbformat_minor": 2
}
