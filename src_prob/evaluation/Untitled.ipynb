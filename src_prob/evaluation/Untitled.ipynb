{
 "cells": [
  {
   "cell_type": "code",
   "execution_count": 3,
   "metadata": {},
   "outputs": [
    {
     "name": "stdout",
     "output_type": "stream",
     "text": [
      "/Users/jianihuang/Desktop/research/synthesis_specs/src/common\n",
      "/Users/jianihuang/Desktop/research/synthesis_specs/src\n",
      "log path :/Users/jianihuang/Desktop/research/synthesis_specs/data/log/5e-05-penyes-preno_intermediate-norno-None.log\n",
      "Namespace(batch_size=5, beam_size=30, dataset_name='img_test_500.pt', decay=0.95, embedding_dim=64, episode_iter=50000, episode_length=10, eps=0.2, eps_decay=0.99, graph_file_name='img_test_500.pkl', hard_constraint=True, hidden_dim=64, json_path='/Users/jianihuang/Desktop/research/synthesis_specs/data/temp/query-5e-05-penyes-preno_intermediate-norno-None.json', log_name=None, log_path='/Users/jianihuang/Desktop/research/synthesis_specs/data/log/5e-05-penyes-preno_intermediate-norno-None.log', lr=5e-05, max_obj_num=20, max_sub_prob=20, max_var_num=3, model_dir='/Users/jianihuang/Desktop/research/synthesis_specs/data/model', model_path='/Users/jianihuang/Desktop/research/synthesis_specs/data/model/refrl-5e-05-penyes-no_intermediate-norno-None.pkl', normalize_reward=False, reward_penalty=True, reward_type='no_intermediate', save_num=500, scene_file_name='img_test_500.json', seed=0, sub_loss=True, test_iter=100, test_set=None, test_type='sample')\n",
      "/Users/jianihuang/Desktop/research/synthesis_specs/data\n"
     ]
    }
   ],
   "source": [
    "import os\n",
    "import sys\n",
    "import json \n",
    "import torch \n",
    "from torch_geometric.data import Data, DataLoader\n",
    "import heapq\n",
    "from dataclasses import dataclass, field\n",
    "from typing import Any\n",
    "import random \n",
    "\n",
    "common_path = os.path.abspath(os.path.join(\"__file__\", \"../../common\"))\n",
    "src_path = os.path.abspath(os.path.join(\"__file__\", \"../../\"))\n",
    "\n",
    "sys.argv = [\"foo\"]\n",
    "print(common_path)\n",
    "print(src_path)\n",
    "sys.path.append(common_path)\n",
    "sys.path.append(src_path)\n",
    "\n",
    "from cmd_args import cmd_args, logging\n",
    "from env import Env\n",
    "from embedding import GNN, SceneDataset, create_dataset\n",
    "from utils import get_config\n",
    "from copy import deepcopy\n",
    "\n",
    "data_dir = os.path.abspath(os.path.join(os.path.abspath(\"__file__\"), \"../../../data\"))\n",
    "print(data_dir)\n"
   ]
  },
  {
   "cell_type": "code",
   "execution_count": 15,
   "metadata": {},
   "outputs": [
    {
     "name": "stdout",
     "output_type": "stream",
     "text": [
      "['large', 'small', 'blue', 'red', 'yellow', 'green', 'gray', 'brown', 'purple', 'cyan', 'cube', 'cylinder', 'sphere', 'rubber', 'metal', 'right', 'behind', 'target', 'obj_0', 'obj_1', 'obj_2', 'obj_3', 'obj_4', 'obj_5', 'obj_6', 'obj_7', 'obj_8', 'obj_9', 'obj_10', 'obj_11', 'obj_12', 'obj_13', 'obj_14', 'obj_15', 'obj_16', 'obj_17', 'obj_18', 'obj_19', 'var_0', 'var_1', 'var_2', 'size', 'color', 'shape', 'material', 'bonding', 'edge_attr', 'first', 'second', 'target', 'center_relation']\n"
     ]
    }
   ],
   "source": [
    "hard_idxs = ['22', '25', '35', '36', '191', '192', '315', '318', '391', '398', '445', '447', '491', '515', '516', '523', '524', '755', '759', '838', '842', '980', '1048', '1049', '1115', '1161', '1162', '1173', '1174', '1349', '1352', '1399', '1405', '1406', '1464', '1465', '1563', '1565', '1574', '1576', '1607', '1611', '1625', '1626', '1628', '1689', '1690', '1691', '1727', '1775', '1776', '1820', '1821', '1870', '1876', '1900', '1903', '1963', '1964', '1998', '2005', '2093', '2096', '2129', '2131', '2175', '2176', '2210']\n",
    "hard_idxs = [ int(idx) for idx in hard_idxs]\n",
    "scenes = []\n",
    "\n",
    "data_dir = os.path.abspath(os.path.join(os.path.abspath(\"__file__\"), \"../../../data\"))\n",
    "model_dir = os.path.abspath(os.path.join(data_dir, \"oak_model/model\"))\n",
    "og_dir = os.path.abspath(os.path.join(data_dir, \"log\"))\n",
    "\n",
    "scene_file_name = \"img_test_500.json\"\n",
    "graph_file_name = \"img_test_500.pkl\"\n",
    "datafile_name = \"img_test_500.pt\"\n",
    "search_file_name = \"beam_search_500.json\"\n",
    "\n",
    "raw_path = os.path.abspath(os.path.join(data_dir, \"./processed_dataset/raw\"))\n",
    "scenes_path = os.path.abspath(os.path.join(raw_path, scene_file_name))\n",
    "graphs_path = os.path.join(raw_path, graph_file_name)\n",
    "success_path = os.path.join(data_dir, f\"./eval_result/{search_file_name}\")\n",
    "\n",
    "graphs, scene_dataset = create_dataset(data_dir, scenes_path, graphs_path)\n",
    "\n",
    "# update the cmd_args corresponding to the info we have \n",
    "cmd_args.graph_file_name = graph_file_name\n",
    "\n",
    "lr4_10_model_path = os.path.join(model_dir, \"refrl-0.0001-penyes-no_intermediate-norno-img_test_30.pkl\")\n",
    "refrl = torch.load(lr4_10_model_path)\n",
    "refrl.policy.eval()\n",
    "\n",
    "data_loader = DataLoader(scene_dataset)\n",
    "for ct, data_point in enumerate(data_loader):\n",
    "    if ct in hard_idxs:\n",
    "        graph = graphs[ct]\n",
    "        graph.scene[\"target_id\"] = graph.target_id\n",
    "        scenes.append(graph.scene)\n",
    "            "
   ]
  },
  {
   "cell_type": "code",
   "execution_count": 16,
   "metadata": {},
   "outputs": [],
   "source": [
    "hard_file_name = \"hard_scenes.json\"\n",
    "hard_path = os.path.join(raw_path, hard_file_name)\n",
    "with open (hard_path, 'w') as hard_file:\n",
    "    json.dump(scenes, hard_file, indent=True)"
   ]
  },
  {
   "cell_type": "code",
   "execution_count": 14,
   "metadata": {},
   "outputs": [
    {
     "name": "stdout",
     "output_type": "stream",
     "text": [
      "0\n"
     ]
    }
   ],
   "source": [
    "print(graph.target_id)"
   ]
  },
  {
   "cell_type": "code",
   "execution_count": null,
   "metadata": {},
   "outputs": [],
   "source": []
  }
 ],
 "metadata": {
  "kernelspec": {
   "display_name": "Python 3",
   "language": "python",
   "name": "python3"
  },
  "language_info": {
   "codemirror_mode": {
    "name": "ipython",
    "version": 3
   },
   "file_extension": ".py",
   "mimetype": "text/x-python",
   "name": "python",
   "nbconvert_exporter": "python",
   "pygments_lexer": "ipython3",
   "version": "3.7.4"
  }
 },
 "nbformat": 4,
 "nbformat_minor": 2
}
