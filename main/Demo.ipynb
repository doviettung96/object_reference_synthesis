{
 "cells": [
  {
   "cell_type": "code",
   "execution_count": 3,
   "metadata": {
    "collapsed": true,
    "jupyter": {
     "outputs_hidden": true,
     "source_hidden": true
    }
   },
   "outputs": [
    {
     "name": "stdout",
     "output_type": "stream",
     "text": [
      "log path :/Users/jianihuang/Desktop/research/synthesis_specs/data/log/5e-05-penyes-preno_intermediate-norno-None.log\n",
      "Namespace(batch_size=5, beam_size=30, dataset_name='img_test_500.pt', decay=0.95, embedding_dim=64, episode_iter=50000, episode_length=10, eps=0.2, eps_decay=0.99, graph_file_name='img_test_500.pkl', hard_constraint=True, hidden_dim=64, json_path='/Users/jianihuang/Desktop/research/synthesis_specs/data/temp/query-5e-05-penyes-preno_intermediate-norno-None.json', log_name=None, log_path='/Users/jianihuang/Desktop/research/synthesis_specs/data/log/5e-05-penyes-preno_intermediate-norno-None.log', lr=5e-05, max_obj_num=20, max_sub_prob=20, max_var_num=3, model_dir='/Users/jianihuang/Desktop/research/synthesis_specs/data/model', model_path='/Users/jianihuang/Desktop/research/synthesis_specs/data/model/refrl-5e-05-penyes-no_intermediate-norno-None.pkl', normalize_reward=False, reward_penalty=True, reward_type='no_intermediate', save_num=500, scene_file_name='img_test_500.json', seed=0, sub_loss=True, test_iter=100, test_set=None, test_type='sample')\n",
      "/Users/jianihuang/Desktop/research/synthesis_specs/src/common\n",
      "/Users/jianihuang/Desktop/research/synthesis_specs/src\n"
     ]
    }
   ],
   "source": [
    "import time\n",
    "import sys\n",
    "import os \n",
    "import json\n",
    "import pickle\n",
    "import torch\n",
    "from torch_geometric.data import Data, DataLoader\n",
    "\n",
    "common_path = os.path.abspath(os.path.join(\"__file__\", \"../../src/common\"))\n",
    "eval_path = os.path.abspath(os.path.join(\"__file__\", \"../../src/evaluation\"))\n",
    "src_path = os.path.abspath(os.path.join(\"__file__\", \"../../src\"))\n",
    "sys.path.append(common_path)\n",
    "sys.path.append(src_path)\n",
    "sys.path.append(eval_path)\n",
    "sys.argv = [\"bar\"]\n",
    "\n",
    "from scene2graph import Graph, GraphNode\n",
    "from query import query\n",
    "from utils import get_config\n",
    "from cont_train import cont_single\n",
    "from embedding import GNN, SceneDataset, create_dataset"
   ]
  },
  {
   "cell_type": "code",
   "execution_count": 4,
   "metadata": {
    "jupyter": {
     "source_hidden": true
    }
   },
   "outputs": [],
   "source": [
    "# directories\n",
    "data_dir = os.path.abspath(os.path.join(os.path.abspath(\"__file__\"), \"../../data\"))\n",
    "model_dir = os.path.abspath(os.path.join(data_dir, \"oak_model/model\"))\n",
    "\n",
    "# graph information\n",
    "graph_file_name = \"img_test_500.pkl\"\n",
    "graph_path = os.path.join(data_dir, f\"./processed_dataset/raw/{graph_file_name}\")\n",
    "\n",
    "# scene information\n",
    "scene_file_name = \"img_test_500.json\"\n",
    "raw_path = os.path.abspath(os.path.join(data_dir, \"./processed_dataset/raw\"))\n",
    "scenes_path = os.path.abspath(os.path.join(raw_path, scene_file_name))\n",
    "\n",
    "# image information\n",
    "image_file_name = \"bob-view.png\"\n",
    "image_path = os.path.abspath(os.path.join(\"__file__\", f\"../{image_file_name}\"))\n",
    "\n",
    "# model information\n",
    "model_path = os.path.join(model_dir, \"refrl-0.0001-penyes-no_intermediate-norno-img_test_30.pkl\")"
   ]
  },
  {
   "cell_type": "code",
   "execution_count": 5,
   "metadata": {
    "collapsed": true,
    "jupyter": {
     "outputs_hidden": true,
     "source_hidden": true
    }
   },
   "outputs": [
    {
     "name": "stdout",
     "output_type": "stream",
     "text": [
      "['large', 'small', 'blue', 'red', 'yellow', 'green', 'gray', 'brown', 'purple', 'cyan', 'cube', 'cylinder', 'sphere', 'rubber', 'metal', 'right', 'behind', 'target', 'obj_0', 'obj_1', 'obj_2', 'obj_3', 'obj_4', 'obj_5', 'obj_6', 'obj_7', 'obj_8', 'obj_9', 'obj_10', 'obj_11', 'obj_12', 'obj_13', 'obj_14', 'obj_15', 'obj_16', 'obj_17', 'obj_18', 'obj_19', 'var_0', 'var_1', 'var_2', 'size', 'color', 'shape', 'material', 'bonding', 'edge_attr', 'first', 'second', 'target', 'center_relation']\n"
     ]
    },
    {
     "name": "stderr",
     "output_type": "stream",
     "text": [
      "/Users/jianihuang/anaconda3/envs/torch_graphic/lib/python3.7/site-packages/torch/serialization.py:453: SourceChangeWarning: source code of class 'rl.NodeSelPolicy' has changed. you can retrieve the original source code by accessing the object's source attribute or set `torch.nn.Module.dump_patches = True` and use the patch tool to revert the changes.\n",
      "  warnings.warn(msg, SourceChangeWarning)\n",
      "/Users/jianihuang/anaconda3/envs/torch_graphic/lib/python3.7/site-packages/torch/serialization.py:453: SourceChangeWarning: source code of class 'decoder.NodeDecoder' has changed. you can retrieve the original source code by accessing the object's source attribute or set `torch.nn.Module.dump_patches = True` and use the patch tool to revert the changes.\n",
      "  warnings.warn(msg, SourceChangeWarning)\n"
     ]
    }
   ],
   "source": [
    "# load graph and scene info\n",
    "graphs, scene_dataset = create_dataset(data_dir, scenes_path, graph_path)\n",
    "refrl = torch.load(model_path)\n",
    "dataloader = DataLoader(scene_dataset)"
   ]
  },
  {
   "cell_type": "code",
   "execution_count": 6,
   "metadata": {
    "jupyter": {
     "source_hidden": true
    }
   },
   "outputs": [],
   "source": [
    "obj2idx = {}\n",
    "\n",
    "obj2idx[\"A\"] = 17\n",
    "obj2idx[\"E\"] = 18\n",
    "obj2idx[\"C\"] = 19\n",
    "obj2idx[\"B\"] = 20\n",
    "obj2idx[\"I\"] = 21\n",
    "obj2idx[\"G\"] = 22\n",
    "obj2idx[\"F\"] = 23\n",
    "obj2idx[\"D\"] = 24\n",
    "obj2idx[\"H\"] = 25\n",
    "obj2idx[\"J\"] = 26\n",
    "\n",
    "scene = graphs[22].scene\n",
    "config = get_config()"
   ]
  },
  {
   "cell_type": "code",
   "execution_count": 7,
   "metadata": {
    "jupyter": {
     "source_hidden": true
    }
   },
   "outputs": [],
   "source": [
    "def get_trained_prog(target_label):\n",
    "    prob_id = obj2idx[target_label]\n",
    "    \n",
    "    file_name = None\n",
    "    save_dir = None\n",
    "    \n",
    "\n",
    "    data_point = next(x for i,x in enumerate(dataloader) if i == prob_id)\n",
    "    policy = refrl.policy\n",
    "    attr_encoder = refrl.dataset.attr_encoder\n",
    "    \n",
    "    policy, success_progs = cont_single(file_name, data_point, policy, graphs, save_dir, attr_encoder, config, save=False)\n",
    "    return policy, success_progs\n",
    "\n",
    "def get_further_trained_prog(policy, target_label):\n",
    "    prob_id = obj2idx[target_label]\n",
    "    \n",
    "    file_name = None\n",
    "    save_dir = None\n",
    "    \n",
    "\n",
    "    data_point = next(x for i,x in enumerate(dataloader) if i == prob_id)\n",
    "    attr_encoder = refrl.dataset.attr_encoder\n",
    "    \n",
    "    success_progs = cont_single(file_name, data_point, policy, graphs, save_dir, attr_encoder, config, save=False)\n",
    "    return policy, success_progs"
   ]
  },
  {
   "cell_type": "code",
   "execution_count": 8,
   "metadata": {
    "jupyter": {
     "source_hidden": true
    }
   },
   "outputs": [],
   "source": [
    "def query2pts(scene, query_res):\n",
    "    point_xs = []\n",
    "    point_ys = []\n",
    "    \n",
    "    if not \"var_0\" in query_res:\n",
    "        return []\n",
    "    for obj_idx in query_res[\"var_0\"]:\n",
    "        point_xs.append(scene[\"objects\"][int(obj_idx)][\"pixel_coords\"][0])\n",
    "        point_ys.append(scene[\"objects\"][int(obj_idx)][\"pixel_coords\"][1])\n",
    "    return point_xs, point_ys"
   ]
  },
  {
   "cell_type": "markdown",
   "metadata": {},
   "source": [
    "##### Meta-Learnt A"
   ]
  },
  {
   "cell_type": "code",
   "execution_count": 12,
   "metadata": {
    "collapsed": true,
    "jupyter": {
     "outputs_hidden": true,
     "source_hidden": true
    }
   },
   "outputs": [
    {
     "name": "stdout",
     "output_type": "stream",
     "text": [
      "[['shape', 'sphere', 0], ['color', 'gray', 2], ['color', 'red', 0]]\n",
      "We spent 31.869831800460815s to find out the clauses\n"
     ]
    }
   ],
   "source": [
    "start_time = time.time()\n",
    "\n",
    "# seek for the clauses\n",
    "a_policy, success_progs = get_trained_prog(\"A\")\n",
    "a_clauses = success_progs[0]\n",
    "\n",
    "end_time = time.time()\n",
    "time_spent = end_time - start_time\n",
    "print(a_clauses)\n",
    "print(f\"We spent {time_spent}s to find out the clauses\")"
   ]
  },
  {
   "cell_type": "markdown",
   "metadata": {},
   "source": [
    "##### Meta-Learnt B"
   ]
  },
  {
   "cell_type": "code",
   "execution_count": 11,
   "metadata": {},
   "outputs": [
    {
     "name": "stdout",
     "output_type": "stream",
     "text": [
      "[['color', 'green', 0]]\n",
      "We spent 0.13238120079040527s to find out the clauses\n"
     ]
    }
   ],
   "source": [
    "start_time = time.time()\n",
    "\n",
    "# seek for the clauses\n",
    "b_policy, success_progs = get_trained_prog(\"B\")\n",
    "b_clauses = success_progs[0]\n",
    "\n",
    "end_time = time.time()\n",
    "time_spent = end_time - start_time\n",
    "print(b_clauses)\n",
    "print(f\"We spent {time_spent}s to find out the clauses\")"
   ]
  },
  {
   "cell_type": "markdown",
   "metadata": {},
   "source": [
    "##### Meta-Learnt C"
   ]
  },
  {
   "cell_type": "code",
   "execution_count": 14,
   "metadata": {
    "collapsed": true,
    "jupyter": {
     "outputs_hidden": true,
     "source_hidden": true
    }
   },
   "outputs": [
    {
     "name": "stdout",
     "output_type": "stream",
     "text": [
      "[['size', 'large', 0], ['color', 'gray', 0]]\n",
      "We spent 86.16160297393799s to find out the clauses\n"
     ]
    }
   ],
   "source": [
    "start_time = time.time()\n",
    "\n",
    "# seek for the clauses\n",
    "c_policy, success_progs = get_trained_prog(\"C\")\n",
    "c_clauses = success_progs[0]\n",
    "\n",
    "end_time = time.time()\n",
    "time_spent = end_time - start_time\n",
    "print(c_clauses)\n",
    "print(f\"We spent {time_spent}s to find out the clauses\")"
   ]
  },
  {
   "cell_type": "markdown",
   "metadata": {},
   "source": [
    "##### Meta-Learnt D"
   ]
  },
  {
   "cell_type": "code",
   "execution_count": 15,
   "metadata": {
    "collapsed": true,
    "jupyter": {
     "outputs_hidden": true,
     "source_hidden": true
    }
   },
   "outputs": [
    {
     "name": "stdout",
     "output_type": "stream",
     "text": [
      "[['shape', 'cylinder', 0]]\n",
      "We spent 3.0264980792999268s to find out the clauses\n"
     ]
    }
   ],
   "source": [
    "start_time = time.time()\n",
    "\n",
    "# seek for the clauses\n",
    "d_policy, success_progs = get_trained_prog(\"D\")\n",
    "d_clauses = success_progs[0]\n",
    "\n",
    "end_time = time.time()\n",
    "time_spent = end_time - start_time\n",
    "print(d_clauses)\n",
    "print(f\"We spent {time_spent}s to find out the clauses\")"
   ]
  },
  {
   "cell_type": "markdown",
   "metadata": {},
   "source": [
    "##### Meta-Learnt E"
   ]
  },
  {
   "cell_type": "code",
   "execution_count": 16,
   "metadata": {
    "collapsed": true,
    "jupyter": {
     "outputs_hidden": true,
     "source_hidden": true
    }
   },
   "outputs": [
    {
     "name": "stdout",
     "output_type": "stream",
     "text": [
      "[['size', 'small', 2], ['color', 'purple', 0], ['material', 'rubber', 0]]\n",
      "We spent 4.304054021835327s to find out the clauses\n"
     ]
    }
   ],
   "source": [
    "start_time = time.time()\n",
    "\n",
    "# seek for the clauses\n",
    "e_policy, success_progs = get_trained_prog(\"E\")\n",
    "e_clauses = success_progs[0]\n",
    "\n",
    "end_time = time.time()\n",
    "time_spent = end_time - start_time\n",
    "print(e_clauses)\n",
    "print(f\"We spent {time_spent}s to find out the clauses\")"
   ]
  },
  {
   "cell_type": "markdown",
   "metadata": {},
   "source": [
    "##### Meta-Learnt F"
   ]
  },
  {
   "cell_type": "code",
   "execution_count": 17,
   "metadata": {
    "collapsed": true,
    "jupyter": {
     "outputs_hidden": true,
     "source_hidden": true
    }
   },
   "outputs": [
    {
     "name": "stdout",
     "output_type": "stream",
     "text": [
      "[['color', 'brown', 0]]\n",
      "We spent 0.13286924362182617s to find out the clauses\n"
     ]
    }
   ],
   "source": [
    "start_time = time.time()\n",
    "\n",
    "# seek for the clauses\n",
    "f_policy, success_progs = get_trained_prog(\"F\")\n",
    "f_clauses = success_progs[0]\n",
    "\n",
    "end_time = time.time()\n",
    "time_spent = end_time - start_time\n",
    "print(f_clauses)\n",
    "print(f\"We spent {time_spent}s to find out the clauses\")"
   ]
  },
  {
   "cell_type": "markdown",
   "metadata": {},
   "source": [
    "##### Meta-Learnt G"
   ]
  },
  {
   "cell_type": "code",
   "execution_count": 12,
   "metadata": {},
   "outputs": [
    {
     "name": "stdout",
     "output_type": "stream",
     "text": [
      "[['behind', 1, 2], ['behind', 0, 1], ['color', 'gray', 0], ['shape', 'sphere', 2]]\n",
      "We spent 22.444822072982788s to find out the clauses\n"
     ]
    }
   ],
   "source": [
    "start_time = time.time()\n",
    "\n",
    "# seek for the clauses\n",
    "g_policy, success_progs = get_trained_prog(\"G\")\n",
    "g_clauses = success_progs[0]\n",
    "\n",
    "end_time = time.time()\n",
    "time_spent = end_time - start_time\n",
    "print(g_clauses)\n",
    "print(f\"We spent {time_spent}s to find out the clauses\")"
   ]
  },
  {
   "cell_type": "markdown",
   "metadata": {},
   "source": [
    "##### Meta-Learnt H"
   ]
  },
  {
   "cell_type": "code",
   "execution_count": 8,
   "metadata": {
    "collapsed": true,
    "jupyter": {
     "outputs_hidden": true,
     "source_hidden": true
    }
   },
   "outputs": [
    {
     "name": "stdout",
     "output_type": "stream",
     "text": [
      "[['right', 2, 0], ['shape', 'cube', 2], ['right', 2, 1], ['shape', 'cube', 1], ['behind', 2, 0], ['shape', 'cube', 0]]\n",
      "We spent 529.9074540138245s to find out the clauses\n"
     ]
    }
   ],
   "source": [
    "start_time = time.time()\n",
    "\n",
    "# seek for the clauses\n",
    "h_policy, success_progs = get_trained_prog(\"H\")\n",
    "h_clauses = success_progs[0]\n",
    "\n",
    "end_time = time.time()\n",
    "time_spent = end_time - start_time\n",
    "print(h_clauses)\n",
    "print(f\"We spent {time_spent}s to find out the clauses\")"
   ]
  },
  {
   "cell_type": "markdown",
   "metadata": {},
   "source": [
    "##### Meta-Learnt I"
   ]
  },
  {
   "cell_type": "code",
   "execution_count": 20,
   "metadata": {
    "collapsed": true,
    "jupyter": {
     "outputs_hidden": true,
     "source_hidden": true
    }
   },
   "outputs": [
    {
     "name": "stdout",
     "output_type": "stream",
     "text": [
      "[['color', 'yellow', 0]]\n",
      "We spent 0.014247560501098632s to find out the clauses\n"
     ]
    }
   ],
   "source": [
    "start_time = time.time()\n",
    "\n",
    "# seek for the clauses\n",
    "i_policy, success_progs = get_trained_prog(\"I\")\n",
    "i_clauses = success_progs[0]\n",
    "\n",
    "end_time = time.time()\n",
    "time_spent = end_time - start_time\n",
    "print(i_clauses)\n",
    "print(f\"We spent {time_spent/10}s to find out the clauses\")"
   ]
  },
  {
   "cell_type": "code",
   "execution_count": null,
   "metadata": {},
   "outputs": [],
   "source": [
    "# clause that we have\n",
    "clauses = [[\"behind\", 0, 1], [\"shape\", \"cube\", 0], [\"color\", \"brown\", 1]]"
   ]
  },
  {
   "cell_type": "code",
   "execution_count": 26,
   "metadata": {},
   "outputs": [],
   "source": [
    "# query to check the correctness\n",
    "query_res = query(scene, g_clauses, config)\n",
    "point_xs, point_ys = query2pts(scene, query_res)"
   ]
  },
  {
   "cell_type": "markdown",
   "metadata": {},
   "source": [
    "draw the objects that satisfy the constraints"
   ]
  },
  {
   "cell_type": "code",
   "execution_count": 27,
   "metadata": {
    "scrolled": true
   },
   "outputs": [
    {
     "data": {
      "image/png": "[encoded data removed]",
      "text/plain": [
       "<Figure size 432x288 with 1 Axes>"
      ]
     },
     "metadata": {
      "needs_background": "light"
     },
     "output_type": "display_data"
    }
   ],
   "source": [
    "import matplotlib.pyplot as plt\n",
    "im = plt.imread(image_path)\n",
    "implot = plt.imshow(im)\n",
    "\n",
    "plt.scatter(point_xs, point_ys, c=\"white\")\n",
    "plt.show()"
   ]
  },
  {
   "cell_type": "markdown",
   "metadata": {},
   "source": [
    "generate the clauses using NN"
   ]
  },
  {
   "cell_type": "code",
   "execution_count": null,
   "metadata": {},
   "outputs": [],
   "source": []
  },
  {
   "cell_type": "code",
   "execution_count": 64,
   "metadata": {},
   "outputs": [
    {
     "data": {
      "text/plain": [
       "{'image_index': 502,\n",
       " 'objects': [{'color': 'red',\n",
       "   'size': 'large',\n",
       "   'rotation': 48.81250167082779,\n",
       "   'shape': 'sphere',\n",
       "   '3d_coords': [-2.218951940536499, -2.431873321533203, 0.699999988079071],\n",
       "   'material': 'rubber',\n",
       "   'pixel_coords': [78, 128, 10.688728332519531]},\n",
       "  {'color': 'purple',\n",
       "   'size': 'small',\n",
       "   'rotation': 54.76934645625753,\n",
       "   'shape': 'sphere',\n",
       "   '3d_coords': [0.6174756288528442, 2.4694671630859375, 0.3499999940395355],\n",
       "   'material': 'rubber',\n",
       "   'pixel_coords': [340, 123, 11.878174781799316]},\n",
       "  {'color': 'gray',\n",
       "   'size': 'large',\n",
       "   'rotation': 205.00560095524148,\n",
       "   'shape': 'sphere',\n",
       "   '3d_coords': [-2.3796944618225098, 0.8298053741455078, 0.699999988079071],\n",
       "   'material': 'metal',\n",
       "   'pixel_coords': [200, 92, 12.744452476501465]},\n",
       "  {'color': 'green',\n",
       "   'size': 'large',\n",
       "   'rotation': 217.42306110337947,\n",
       "   'shape': 'cube',\n",
       "   '3d_coords': [-1.6057746410369873, -0.8591099977493286, 0.699999988079071],\n",
       "   'material': 'metal',\n",
       "   'pixel_coords': [160, 118, 11.218812942504883]},\n",
       "  {'color': 'yellow',\n",
       "   'size': 'small',\n",
       "   'rotation': 355.4112168296038,\n",
       "   'shape': 'sphere',\n",
       "   '3d_coords': [1.8663098812103271, -1.88498055934906, 0.3499999940395355],\n",
       "   'material': 'rubber',\n",
       "   'pixel_coords': [230, 214, 8.443151473999023]},\n",
       "  {'color': 'gray',\n",
       "   'size': 'small',\n",
       "   'rotation': 211.4278550672584,\n",
       "   'shape': 'cube',\n",
       "   '3d_coords': [1.8468055725097656, 0.2189968377351761, 0.3499999940395355],\n",
       "   'material': 'metal',\n",
       "   'pixel_coords': [315, 173, 9.713006019592285]},\n",
       "  {'color': 'brown',\n",
       "   'size': 'small',\n",
       "   'rotation': 70.23755158804259,\n",
       "   'shape': 'sphere',\n",
       "   '3d_coords': [2.19329833984375, 1.7107374668121338, 0.3499999940395355],\n",
       "   'material': 'rubber',\n",
       "   'pixel_coords': [379, 155, 10.372756958007812]},\n",
       "  {'color': 'red',\n",
       "   'size': 'large',\n",
       "   'rotation': 77.02499234041521,\n",
       "   'shape': 'cylinder',\n",
       "   '3d_coords': [-1.7366902828216553, 2.5290699005126953, 0.699999988079071],\n",
       "   'material': 'metal',\n",
       "   'pixel_coords': [269, 83, 13.330187797546387]},\n",
       "  {'color': 'gray',\n",
       "   'size': 'small',\n",
       "   'rotation': 69.09102599624903,\n",
       "   'shape': 'cube',\n",
       "   '3d_coords': [-0.9884526133537292, 1.2982298135757446, 0.3499999940395355],\n",
       "   'material': 'metal',\n",
       "   'pixel_coords': [253, 116, 12.250809669494629]},\n",
       "  {'color': 'purple',\n",
       "   'size': 'large',\n",
       "   'rotation': 348.84136806901,\n",
       "   'shape': 'sphere',\n",
       "   '3d_coords': [-0.14859451353549957, -2.729952096939087, 0.699999988079071],\n",
       "   'material': 'metal',\n",
       "   'pixel_coords': [117, 168, 9.12828254699707]}],\n",
       " 'relationships': {'right': [[1, 2, 3, 4, 5, 6, 7, 8, 9],\n",
       "   [6],\n",
       "   [1, 4, 5, 6, 7, 8],\n",
       "   [1, 2, 4, 5, 6, 7, 8],\n",
       "   [1, 5, 6, 7, 8],\n",
       "   [1, 6],\n",
       "   [],\n",
       "   [1, 5, 6],\n",
       "   [1, 5, 6, 7],\n",
       "   [1, 2, 3, 4, 5, 6, 7, 8]],\n",
       "  'behind': [[1, 2, 3, 7, 8],\n",
       "   [2, 7, 8],\n",
       "   [7],\n",
       "   [1, 2, 7, 8],\n",
       "   [0, 1, 2, 3, 5, 6, 7, 8, 9],\n",
       "   [0, 1, 2, 3, 6, 7, 8],\n",
       "   [0, 1, 2, 3, 7, 8],\n",
       "   [],\n",
       "   [2, 7],\n",
       "   [0, 1, 2, 3, 5, 6, 7, 8]],\n",
       "  'front': [[4, 5, 6, 9],\n",
       "   [0, 3, 4, 5, 6, 9],\n",
       "   [0, 1, 3, 4, 5, 6, 8, 9],\n",
       "   [0, 4, 5, 6, 9],\n",
       "   [],\n",
       "   [4, 9],\n",
       "   [4, 5, 9],\n",
       "   [0, 1, 2, 3, 4, 5, 6, 8, 9],\n",
       "   [0, 1, 3, 4, 5, 6, 9],\n",
       "   [4]],\n",
       "  'left': [[],\n",
       "   [0, 2, 3, 4, 5, 7, 8, 9],\n",
       "   [0, 3, 9],\n",
       "   [0, 9],\n",
       "   [0, 2, 3, 9],\n",
       "   [0, 2, 3, 4, 7, 8, 9],\n",
       "   [0, 1, 2, 3, 4, 5, 7, 8, 9],\n",
       "   [0, 2, 3, 4, 8, 9],\n",
       "   [0, 2, 3, 4, 9],\n",
       "   [0]]},\n",
       " 'image_filename': 'CLEVR_train_000502.png',\n",
       " 'split': 'train',\n",
       " 'directions': {'right': [0.6563112735748291, 0.7544902563095093, -0.0],\n",
       "  'behind': [-0.754490315914154, 0.6563112735748291, 0.0],\n",
       "  'above': [0.0, 0.0, 1.0],\n",
       "  'left': [-0.6563112735748291, -0.7544902563095093, 0.0],\n",
       "  'below': [-0.0, -0.0, -1.0],\n",
       "  'front': [0.754490315914154, -0.6563112735748291, -0.0]}}"
      ]
     },
     "execution_count": 64,
     "metadata": {},
     "output_type": "execute_result"
    }
   ],
   "source": [
    "scene"
   ]
  },
  {
   "cell_type": "code",
   "execution_count": 67,
   "metadata": {},
   "outputs": [
    {
     "data": {
      "text/plain": [
       "0"
      ]
     },
     "execution_count": 67,
     "metadata": {},
     "output_type": "execute_result"
    }
   ],
   "source": [
    "graphs[27].target_id"
   ]
  },
  {
   "cell_type": "code",
   "execution_count": null,
   "metadata": {},
   "outputs": [],
   "source": []
  }
 ],
 "metadata": {
  "kernelspec": {
   "display_name": "Python 3",
   "language": "python",
   "name": "python3"
  },
  "language_info": {
   "codemirror_mode": {
    "name": "ipython",
    "version": 3
   },
   "file_extension": ".py",
   "mimetype": "text/x-python",
   "name": "python",
   "nbconvert_exporter": "python",
   "pygments_lexer": "ipython3",
   "version": "3.7.3"
  }
 },
 "nbformat": 4,
 "nbformat_minor": 4
}
