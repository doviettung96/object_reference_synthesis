{
 "cells": [
  {
   "cell_type": "code",
   "execution_count": 7,
   "metadata": {},
   "outputs": [],
   "source": [
    "import re \n",
    "\n",
    "def process_log(log_path):\n",
    "    log = dict()\n",
    "    test = 0\n",
    "    train = 0\n",
    "    log[\"file_name\"] = log_path.split(\"/\")[-1]\n",
    "    log[\"max_train_iter\"] = 0\n",
    "    \n",
    "    lines = []\n",
    "    with open(log_path, 'r') as log_file:\n",
    "        \n",
    "        for line in log_file:\n",
    "            lines.append(line)\n",
    "            if \"testing on test data\" in line:\n",
    "                log[f\"test_test_{test}\"] = dict()\n",
    "                updating = f\"test_test_{test}\"\n",
    "                log[updating][\"rewards\"] = [] \n",
    "                test += 1\n",
    "            elif \"testing on train data\" in line:\n",
    "                log[f\"test_train_{train}\"] = dict()\n",
    "                updating = f\"test_train_{train}\"\n",
    "                log[updating][\"rewards\"] = []\n",
    "                train += 1\n",
    "            elif \"training iteration\" in line:\n",
    "                iteration = int(line.split()[-1])\n",
    "                log[f\"train_{iteration}\"] = dict()\n",
    "                updating = f\"train_{iteration}\"\n",
    "                \n",
    "                if log[\"max_train_iter\"] < iteration:\n",
    "                    log[\"max_train_iter\"] = iteration\n",
    "                    \n",
    "                log[updating][\"rewards\"] = []\n",
    "            elif \"success\" in line:\n",
    "                info = re.findall(r\"\\d+.\\d+|[+-]*\\d+\", line)\n",
    "                log[updating][\"success\"] = int(info[0])\n",
    "                log[updating][\"total\"] = int(info[1])\n",
    "                log[updating][\"ave_loss\"]= float(info[2])\n",
    "            elif \"[tensor\" in line:\n",
    "                try:\n",
    "                    rewards = re.findall(r\"\\d+.\\d+|[+-]*\\d+\", line)\n",
    "                    log[updating][\"rewards\"].append([float(reward) for reward in rewards])\n",
    "                except UnboundLocalError:\n",
    "                    print(len(lines))\n",
    "                    #print (lines[-1])\n",
    "                    return\n",
    "            elif \" in \" in line:\n",
    "                log[updating][\"time_spent\"] = float(line.split()[-1])\n",
    "            \n",
    "    return log\n",
    "\n",
    "def get_x_y(log):\n",
    "    x = range(log[\"max_train_iter\"]+1)\n",
    "    y = []\n",
    "    for ct in range(log[\"max_train_iter\"]+1):\n",
    "        # calculate average reward\n",
    "        ave_roll_out = [sum(roll_out_reward)/len(roll_out_reward) for roll_out_reward in log[f\"train_{ct}\"][\"rewards\"]]\n",
    "        ave_reward = sum(ave_roll_out)/len(ave_roll_out)\n",
    "        y.append(ave_reward)\n",
    "    return x, y\n",
    "\n",
    "def plot_training_rewards(log_path):\n",
    "    log = process_log(log_path) \n",
    "    x, y = get_x_y(log)\n",
    "    fig, ax = plt.subplots()\n",
    "    ax.plot(x, y)\n",
    "    \n",
    "    ax.set(xlabel='iteration', ylabel='reward',\n",
    "       title=log[\"file_name\"])\n",
    "    ax.grid()\n",
    "    plt.show()\n"
   ]
  },
  {
   "cell_type": "code",
   "execution_count": 8,
   "metadata": {},
   "outputs": [],
   "source": [
    "import os\n",
    "data_dir = os.path.abspath(os.path.join(os.path.abspath(\"__file__\"), \"../../data\" ))\n",
    "log_dir = os.path.join(data_dir, \"log/\")\n",
    "# log_files = [ log_dir + filename for filename in os.listdir(log_dir)]\n",
    "filename = \"img_test_1_prob_things_all_certain_lr_0.001.log\"\n",
    "log_files = [log_dir + filename]"
   ]
  },
  {
   "cell_type": "code",
   "execution_count": 9,
   "metadata": {},
   "outputs": [
    {
     "ename": "ValueError",
     "evalue": "could not convert string to float: '0]]'",
     "output_type": "error",
     "traceback": [
      "\u001b[0;31m---------------------------------------------------------------------------\u001b[0m",
      "\u001b[0;31mValueError\u001b[0m                                Traceback (most recent call last)",
      "\u001b[0;32m<ipython-input-9-eb3d8920309a>\u001b[0m in \u001b[0;36m<module>\u001b[0;34m\u001b[0m\n\u001b[1;32m      1\u001b[0m \u001b[0;32mfor\u001b[0m \u001b[0mlog_file_path\u001b[0m \u001b[0;32min\u001b[0m \u001b[0mlog_files\u001b[0m\u001b[0;34m:\u001b[0m\u001b[0;34m\u001b[0m\u001b[0;34m\u001b[0m\u001b[0m\n\u001b[0;32m----> 2\u001b[0;31m     \u001b[0mplot_training_rewards\u001b[0m\u001b[0;34m(\u001b[0m\u001b[0mlog_file_path\u001b[0m\u001b[0;34m)\u001b[0m\u001b[0;34m\u001b[0m\u001b[0;34m\u001b[0m\u001b[0m\n\u001b[0m",
      "\u001b[0;32m<ipython-input-7-f07d742e28ac>\u001b[0m in \u001b[0;36mplot_training_rewards\u001b[0;34m(log_path)\u001b[0m\n\u001b[1;32m     61\u001b[0m \u001b[0;34m\u001b[0m\u001b[0m\n\u001b[1;32m     62\u001b[0m \u001b[0;32mdef\u001b[0m \u001b[0mplot_training_rewards\u001b[0m\u001b[0;34m(\u001b[0m\u001b[0mlog_path\u001b[0m\u001b[0;34m)\u001b[0m\u001b[0;34m:\u001b[0m\u001b[0;34m\u001b[0m\u001b[0;34m\u001b[0m\u001b[0m\n\u001b[0;32m---> 63\u001b[0;31m     \u001b[0mlog\u001b[0m \u001b[0;34m=\u001b[0m \u001b[0mprocess_log\u001b[0m\u001b[0;34m(\u001b[0m\u001b[0mlog_path\u001b[0m\u001b[0;34m)\u001b[0m\u001b[0;34m\u001b[0m\u001b[0;34m\u001b[0m\u001b[0m\n\u001b[0m\u001b[1;32m     64\u001b[0m     \u001b[0mx\u001b[0m\u001b[0;34m,\u001b[0m \u001b[0my\u001b[0m \u001b[0;34m=\u001b[0m \u001b[0mget_x_y\u001b[0m\u001b[0;34m(\u001b[0m\u001b[0mlog\u001b[0m\u001b[0;34m)\u001b[0m\u001b[0;34m\u001b[0m\u001b[0;34m\u001b[0m\u001b[0m\n\u001b[1;32m     65\u001b[0m     \u001b[0mfig\u001b[0m\u001b[0;34m,\u001b[0m \u001b[0max\u001b[0m \u001b[0;34m=\u001b[0m \u001b[0mplt\u001b[0m\u001b[0;34m.\u001b[0m\u001b[0msubplots\u001b[0m\u001b[0;34m(\u001b[0m\u001b[0;34m)\u001b[0m\u001b[0;34m\u001b[0m\u001b[0;34m\u001b[0m\u001b[0m\n",
      "\u001b[0;32m<ipython-input-7-f07d742e28ac>\u001b[0m in \u001b[0;36mprocess_log\u001b[0;34m(log_path)\u001b[0m\n\u001b[1;32m     46\u001b[0m                     \u001b[0;32mreturn\u001b[0m\u001b[0;34m\u001b[0m\u001b[0;34m\u001b[0m\u001b[0m\n\u001b[1;32m     47\u001b[0m             \u001b[0;32melif\u001b[0m \u001b[0;34m\" in \"\u001b[0m \u001b[0;32min\u001b[0m \u001b[0mline\u001b[0m\u001b[0;34m:\u001b[0m\u001b[0;34m\u001b[0m\u001b[0;34m\u001b[0m\u001b[0m\n\u001b[0;32m---> 48\u001b[0;31m                 \u001b[0mlog\u001b[0m\u001b[0;34m[\u001b[0m\u001b[0mupdating\u001b[0m\u001b[0;34m]\u001b[0m\u001b[0;34m[\u001b[0m\u001b[0;34m\"time_spent\"\u001b[0m\u001b[0;34m]\u001b[0m \u001b[0;34m=\u001b[0m \u001b[0mfloat\u001b[0m\u001b[0;34m(\u001b[0m\u001b[0mline\u001b[0m\u001b[0;34m.\u001b[0m\u001b[0msplit\u001b[0m\u001b[0;34m(\u001b[0m\u001b[0;34m)\u001b[0m\u001b[0;34m[\u001b[0m\u001b[0;34m-\u001b[0m\u001b[0;36m1\u001b[0m\u001b[0;34m]\u001b[0m\u001b[0;34m)\u001b[0m\u001b[0;34m\u001b[0m\u001b[0;34m\u001b[0m\u001b[0m\n\u001b[0m\u001b[1;32m     49\u001b[0m \u001b[0;34m\u001b[0m\u001b[0m\n\u001b[1;32m     50\u001b[0m     \u001b[0;32mreturn\u001b[0m \u001b[0mlog\u001b[0m\u001b[0;34m\u001b[0m\u001b[0;34m\u001b[0m\u001b[0m\n",
      "\u001b[0;31mValueError\u001b[0m: could not convert string to float: '0]]'"
     ]
    }
   ],
   "source": [
    "for log_file_path in log_files:\n",
    "    plot_training_rewards(log_file_path)"
   ]
  },
  {
   "cell_type": "code",
   "execution_count": 2,
   "metadata": {},
   "outputs": [],
   "source": [
    "def prob_to_cat(prob, offsets):\n",
    "        for ct, offset in enumerate(offsets):\n",
    "            if prob > offset:\n",
    "                continue\n",
    "            break\n",
    "        return ct"
   ]
  },
  {
   "cell_type": "code",
   "execution_count": 12,
   "metadata": {},
   "outputs": [],
   "source": [
    "offsets= [0.5, 0.9, 1.0]\n",
    "probs =[0.5, 0.9, 1.0]"
   ]
  },
  {
   "cell_type": "code",
   "execution_count": 13,
   "metadata": {},
   "outputs": [],
   "source": [
    "cats = [prob_to_cat(prob, offsets) for prob in probs]"
   ]
  },
  {
   "cell_type": "code",
   "execution_count": 14,
   "metadata": {},
   "outputs": [
    {
     "data": {
      "text/plain": [
       "[0, 1, 2]"
      ]
     },
     "execution_count": 14,
     "metadata": {},
     "output_type": "execute_result"
    }
   ],
   "source": [
    "cats"
   ]
  },
  {
   "cell_type": "code",
   "execution_count": 19,
   "metadata": {},
   "outputs": [
    {
     "data": {
      "text/plain": [
       "Namespace(category_offset=[1.0, 2.0, 3.0, 4.5], other=[4.0, 3.0, 2.1, 5.2])"
      ]
     },
     "execution_count": 19,
     "metadata": {},
     "output_type": "execute_result"
    }
   ],
   "source": [
    "import argparse\n",
    "parser = argparse.ArgumentParser()\n",
    "parser.add_argument(\"--category_offset\", type=float, nargs='+', default=[0.5, 0.9, 1.0], help=\"categories offset\")\n",
    "parser.add_argument(\"--other\", type=float, nargs='+', default=[0.5, 0.9, 1.0], help=\"categories offset\")\n",
    "parser.parse_args(\"--category_offset 1 2 3 4.5 --other 4 3 2.1 5.2\".split())"
   ]
  },
  {
   "cell_type": "code",
   "execution_count": null,
   "metadata": {},
   "outputs": [],
   "source": []
  }
 ],
 "metadata": {
  "kernelspec": {
   "display_name": "Python 3",
   "language": "python",
   "name": "python3"
  },
  "language_info": {
   "codemirror_mode": {
    "name": "ipython",
    "version": 3
   },
   "file_extension": ".py",
   "mimetype": "text/x-python",
   "name": "python",
   "nbconvert_exporter": "python",
   "pygments_lexer": "ipython3",
   "version": "3.7.3"
  }
 },
 "nbformat": 4,
 "nbformat_minor": 4
}
